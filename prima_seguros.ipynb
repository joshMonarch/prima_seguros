{
 "cells": [
  {
   "cell_type": "code",
   "execution_count": 4,
   "metadata": {},
   "outputs": [],
   "source": [
    "# Se requiere Python ≥ 3.5\n",
    "import sys;\n",
    "assert sys.version_info >= (3, 5);\n",
    "\n",
    "# Se requiere Scikit-Learn ≥ 0.20\n",
    "import sklearn;\n",
    "from sklearn.preprocessing import OrdinalEncoder\n",
    "from sklearn.preprocessing import OneHotEncoder\n",
    "from sklearn.linear_model import LinearRegression\n",
    "from sklearn.tree import DecisionTreeRegressor\n",
    "from sklearn.ensemble import RandomForestRegressor\n",
    "from sklearn.svm import SVR\n",
    "from sklearn.model_selection import cross_val_score\n",
    "from sklearn.metrics import mean_squared_error\n",
    "from sklearn.metrics import mean_absolute_error\n",
    "assert sklearn.__version__ >= \"0.20\";\n",
    "\n",
    "# Otros imports\n",
    "import numpy as np;\n",
    "import pandas as pd\n",
    "import os;\n",
    "import xgboost as xgb \n",
    "import matplotlib as mpl\n",
    "import matplotlib.pyplot as plt;\n",
    "\n",
    "import warnings\n",
    "warnings.simplefilter(action='ignore', category=FutureWarning)\n",
    "\n",
    "# tamaño del texto en las etiquetas por defecto\n",
    "mpl.rc('axes',  labelsize=14);\n",
    "mpl.rc('xtick', labelsize=12);\n",
    "mpl.rc('ytick', labelsize=12);"
   ]
  },
  {
   "cell_type": "code",
   "execution_count": 5,
   "metadata": {},
   "outputs": [],
   "source": [
    "insurence_df = pd.read_csv(\"./dataset/insurance.csv\")"
   ]
  },
  {
   "cell_type": "code",
   "execution_count": 6,
   "metadata": {},
   "outputs": [
    {
     "data": {
      "text/html": [
       "<div>\n",
       "<style scoped>\n",
       "    .dataframe tbody tr th:only-of-type {\n",
       "        vertical-align: middle;\n",
       "    }\n",
       "\n",
       "    .dataframe tbody tr th {\n",
       "        vertical-align: top;\n",
       "    }\n",
       "\n",
       "    .dataframe thead th {\n",
       "        text-align: right;\n",
       "    }\n",
       "</style>\n",
       "<table border=\"1\" class=\"dataframe\">\n",
       "  <thead>\n",
       "    <tr style=\"text-align: right;\">\n",
       "      <th></th>\n",
       "      <th>age</th>\n",
       "      <th>sex</th>\n",
       "      <th>bmi</th>\n",
       "      <th>children</th>\n",
       "      <th>smoker</th>\n",
       "      <th>region</th>\n",
       "      <th>charges</th>\n",
       "    </tr>\n",
       "  </thead>\n",
       "  <tbody>\n",
       "    <tr>\n",
       "      <th>0</th>\n",
       "      <td>19</td>\n",
       "      <td>female</td>\n",
       "      <td>27.900</td>\n",
       "      <td>0</td>\n",
       "      <td>yes</td>\n",
       "      <td>southwest</td>\n",
       "      <td>16884.92400</td>\n",
       "    </tr>\n",
       "    <tr>\n",
       "      <th>1</th>\n",
       "      <td>18</td>\n",
       "      <td>male</td>\n",
       "      <td>33.770</td>\n",
       "      <td>1</td>\n",
       "      <td>no</td>\n",
       "      <td>southeast</td>\n",
       "      <td>1725.55230</td>\n",
       "    </tr>\n",
       "    <tr>\n",
       "      <th>2</th>\n",
       "      <td>28</td>\n",
       "      <td>male</td>\n",
       "      <td>33.000</td>\n",
       "      <td>3</td>\n",
       "      <td>no</td>\n",
       "      <td>southeast</td>\n",
       "      <td>4449.46200</td>\n",
       "    </tr>\n",
       "    <tr>\n",
       "      <th>3</th>\n",
       "      <td>33</td>\n",
       "      <td>male</td>\n",
       "      <td>22.705</td>\n",
       "      <td>0</td>\n",
       "      <td>no</td>\n",
       "      <td>northwest</td>\n",
       "      <td>21984.47061</td>\n",
       "    </tr>\n",
       "    <tr>\n",
       "      <th>4</th>\n",
       "      <td>32</td>\n",
       "      <td>male</td>\n",
       "      <td>28.880</td>\n",
       "      <td>0</td>\n",
       "      <td>no</td>\n",
       "      <td>northwest</td>\n",
       "      <td>3866.85520</td>\n",
       "    </tr>\n",
       "  </tbody>\n",
       "</table>\n",
       "</div>"
      ],
      "text/plain": [
       "   age     sex     bmi  children smoker     region      charges\n",
       "0   19  female  27.900         0    yes  southwest  16884.92400\n",
       "1   18    male  33.770         1     no  southeast   1725.55230\n",
       "2   28    male  33.000         3     no  southeast   4449.46200\n",
       "3   33    male  22.705         0     no  northwest  21984.47061\n",
       "4   32    male  28.880         0     no  northwest   3866.85520"
      ]
     },
     "execution_count": 6,
     "metadata": {},
     "output_type": "execute_result"
    }
   ],
   "source": [
    "insurence_df.head()"
   ]
  },
  {
   "cell_type": "code",
   "execution_count": 7,
   "metadata": {},
   "outputs": [
    {
     "name": "stdout",
     "output_type": "stream",
     "text": [
      "<class 'pandas.core.frame.DataFrame'>\n",
      "RangeIndex: 1338 entries, 0 to 1337\n",
      "Data columns (total 7 columns):\n",
      " #   Column    Non-Null Count  Dtype  \n",
      "---  ------    --------------  -----  \n",
      " 0   age       1338 non-null   int64  \n",
      " 1   sex       1338 non-null   object \n",
      " 2   bmi       1338 non-null   float64\n",
      " 3   children  1338 non-null   int64  \n",
      " 4   smoker    1338 non-null   object \n",
      " 5   region    1338 non-null   object \n",
      " 6   charges   1338 non-null   float64\n",
      "dtypes: float64(2), int64(2), object(3)\n",
      "memory usage: 73.3+ KB\n"
     ]
    }
   ],
   "source": [
    "insurence_df.info()"
   ]
  },
  {
   "cell_type": "code",
   "execution_count": 8,
   "metadata": {},
   "outputs": [
    {
     "data": {
      "text/plain": [
       "age         0\n",
       "sex         0\n",
       "bmi         0\n",
       "children    0\n",
       "smoker      0\n",
       "region      0\n",
       "charges     0\n",
       "dtype: int64"
      ]
     },
     "execution_count": 8,
     "metadata": {},
     "output_type": "execute_result"
    }
   ],
   "source": [
    "# insurence_df[insurence_df.isna().any(axis=1)]\n",
    "insurence_df.isna().sum()"
   ]
  },
  {
   "cell_type": "code",
   "execution_count": 11,
   "metadata": {},
   "outputs": [
    {
     "data": {
      "text/html": [
       "<div>\n",
       "<style scoped>\n",
       "    .dataframe tbody tr th:only-of-type {\n",
       "        vertical-align: middle;\n",
       "    }\n",
       "\n",
       "    .dataframe tbody tr th {\n",
       "        vertical-align: top;\n",
       "    }\n",
       "\n",
       "    .dataframe thead th {\n",
       "        text-align: right;\n",
       "    }\n",
       "</style>\n",
       "<table border=\"1\" class=\"dataframe\">\n",
       "  <thead>\n",
       "    <tr style=\"text-align: right;\">\n",
       "      <th></th>\n",
       "      <th>sex</th>\n",
       "      <th>smoker</th>\n",
       "      <th>region</th>\n",
       "    </tr>\n",
       "  </thead>\n",
       "  <tbody>\n",
       "    <tr>\n",
       "      <th>0</th>\n",
       "      <td>female</td>\n",
       "      <td>yes</td>\n",
       "      <td>southwest</td>\n",
       "    </tr>\n",
       "    <tr>\n",
       "      <th>1</th>\n",
       "      <td>male</td>\n",
       "      <td>no</td>\n",
       "      <td>southeast</td>\n",
       "    </tr>\n",
       "    <tr>\n",
       "      <th>2</th>\n",
       "      <td>male</td>\n",
       "      <td>no</td>\n",
       "      <td>southeast</td>\n",
       "    </tr>\n",
       "    <tr>\n",
       "      <th>3</th>\n",
       "      <td>male</td>\n",
       "      <td>no</td>\n",
       "      <td>northwest</td>\n",
       "    </tr>\n",
       "    <tr>\n",
       "      <th>4</th>\n",
       "      <td>male</td>\n",
       "      <td>no</td>\n",
       "      <td>northwest</td>\n",
       "    </tr>\n",
       "    <tr>\n",
       "      <th>...</th>\n",
       "      <td>...</td>\n",
       "      <td>...</td>\n",
       "      <td>...</td>\n",
       "    </tr>\n",
       "    <tr>\n",
       "      <th>1333</th>\n",
       "      <td>male</td>\n",
       "      <td>no</td>\n",
       "      <td>northwest</td>\n",
       "    </tr>\n",
       "    <tr>\n",
       "      <th>1334</th>\n",
       "      <td>female</td>\n",
       "      <td>no</td>\n",
       "      <td>northeast</td>\n",
       "    </tr>\n",
       "    <tr>\n",
       "      <th>1335</th>\n",
       "      <td>female</td>\n",
       "      <td>no</td>\n",
       "      <td>southeast</td>\n",
       "    </tr>\n",
       "    <tr>\n",
       "      <th>1336</th>\n",
       "      <td>female</td>\n",
       "      <td>no</td>\n",
       "      <td>southwest</td>\n",
       "    </tr>\n",
       "    <tr>\n",
       "      <th>1337</th>\n",
       "      <td>female</td>\n",
       "      <td>yes</td>\n",
       "      <td>northwest</td>\n",
       "    </tr>\n",
       "  </tbody>\n",
       "</table>\n",
       "<p>1338 rows × 3 columns</p>\n",
       "</div>"
      ],
      "text/plain": [
       "         sex smoker     region\n",
       "0     female    yes  southwest\n",
       "1       male     no  southeast\n",
       "2       male     no  southeast\n",
       "3       male     no  northwest\n",
       "4       male     no  northwest\n",
       "...      ...    ...        ...\n",
       "1333    male     no  northwest\n",
       "1334  female     no  northeast\n",
       "1335  female     no  southeast\n",
       "1336  female     no  southwest\n",
       "1337  female    yes  northwest\n",
       "\n",
       "[1338 rows x 3 columns]"
      ]
     },
     "execution_count": 11,
     "metadata": {},
     "output_type": "execute_result"
    }
   ],
   "source": [
    "copy = insurence_df.copy()\n",
    "copy_cat = copy[[\"sex\", \"smoker\",\"region\"]]\n",
    "copy_cat\n"
   ]
  },
  {
   "cell_type": "code",
   "execution_count": 12,
   "metadata": {},
   "outputs": [
    {
     "name": "stdout",
     "output_type": "stream",
     "text": [
      "<class 'pandas.core.frame.DataFrame'>\n",
      "RangeIndex: 1338 entries, 0 to 1337\n",
      "Data columns (total 12 columns):\n",
      " #   Column     Non-Null Count  Dtype  \n",
      "---  ------     --------------  -----  \n",
      " 0   age        1338 non-null   int64  \n",
      " 1   bmi        1338 non-null   float64\n",
      " 2   children   1338 non-null   int64  \n",
      " 3   charges    1338 non-null   float64\n",
      " 4   female     1338 non-null   float64\n",
      " 5   male       1338 non-null   float64\n",
      " 6   no         1338 non-null   float64\n",
      " 7   yes        1338 non-null   float64\n",
      " 8   northeast  1338 non-null   float64\n",
      " 9   northwest  1338 non-null   float64\n",
      " 10  southeast  1338 non-null   float64\n",
      " 11  southwest  1338 non-null   float64\n",
      "dtypes: float64(10), int64(2)\n",
      "memory usage: 125.6 KB\n"
     ]
    }
   ],
   "source": [
    "for col in copy_cat.columns:\n",
    "    oneHot_encoder = OneHotEncoder(sparse=False)\n",
    "    cat_1hot_encoded = oneHot_encoder.fit_transform(copy_cat[[col]])\n",
    "    # print(cat_1hot_encoded)\n",
    "    # print(oneHot_encoder.categories_)\n",
    "    copy.reset_index(drop=False, inplace=True)\n",
    "    copy=copy.join(pd.DataFrame(cat_1hot_encoded, columns=[cat for cat in oneHot_encoder.categories_[0]]))\n",
    "    copy=copy.drop([col,'index'], axis=1);\n",
    "copy.info()"
   ]
  },
  {
   "cell_type": "code",
   "execution_count": 13,
   "metadata": {},
   "outputs": [
    {
     "data": {
      "image/png": "[encoded data removed]",
      "text/plain": [
       "<Figure size 2000x1500 with 12 Axes>"
      ]
     },
     "metadata": {},
     "output_type": "display_data"
    }
   ],
   "source": [
    "copy.hist(bins=50, figsize=(20,15));"
   ]
  },
  {
   "cell_type": "code",
   "execution_count": 28,
   "metadata": {},
   "outputs": [],
   "source": [
    "corr_matrix = copy.corr();\n",
    "# attributes = ['age','bmi','children','charges','yes','no']\n",
    "# scatter_matrix(copy[attributes], figsize=(15, 15));"
   ]
  },
  {
   "cell_type": "code",
   "execution_count": 29,
   "metadata": {},
   "outputs": [
    {
     "data": {
      "text/plain": [
       "charges      1.000000\n",
       "yes          0.787251\n",
       "age          0.299008\n",
       "bmi          0.198341\n",
       "southeast    0.073982\n",
       "children     0.067998\n",
       "male         0.057292\n",
       "northeast    0.006349\n",
       "northwest   -0.039905\n",
       "southwest   -0.043210\n",
       "female      -0.057292\n",
       "no          -0.787251\n",
       "Name: charges, dtype: float64"
      ]
     },
     "execution_count": 29,
     "metadata": {},
     "output_type": "execute_result"
    }
   ],
   "source": [
    "corr_matrix[\"charges\"].sort_values(ascending=False)"
   ]
  },
  {
   "cell_type": "code",
   "execution_count": 30,
   "metadata": {},
   "outputs": [],
   "source": [
    "np.random.seed(42)\n",
    "def split_train_test(data, test_ratio):\n",
    "    test_set_size   = int(len(data)*test_ratio)\n",
    "    shuffle_indices = np.random.permutation(len(data))\n",
    "    test_indices    = shuffle_indices[:test_set_size]\n",
    "    train_indices   = shuffle_indices[test_set_size:]\n",
    "    return data.iloc[train_indices], data.iloc[test_indices]"
   ]
  },
  {
   "cell_type": "code",
   "execution_count": 31,
   "metadata": {},
   "outputs": [
    {
     "data": {
      "text/plain": [
       "(1071, 267)"
      ]
     },
     "execution_count": 31,
     "metadata": {},
     "output_type": "execute_result"
    }
   ],
   "source": [
    "X_train, X_test = split_train_test(copy, 0.20)\n",
    "len(X_train), len(X_test)"
   ]
  },
  {
   "cell_type": "code",
   "execution_count": 32,
   "metadata": {},
   "outputs": [],
   "source": [
    "y_train = X_train[\"charges\"].copy();\n",
    "X_train = X_train.drop(\"charges\", axis=1);\n",
    "y_test = X_test[\"charges\"].copy();\n",
    "X_test = X_test.drop(\"charges\", axis=1);"
   ]
  },
  {
   "cell_type": "code",
   "execution_count": 33,
   "metadata": {},
   "outputs": [],
   "source": [
    "def display_scores(scores):\n",
    "    print(f\"Scores: {scores}\")\n",
    "    print(f\"Mean: {scores.mean()}\")\n",
    "    print(f\"Standard deviation: {scores.std()}\")"
   ]
  },
  {
   "cell_type": "code",
   "execution_count": 34,
   "metadata": {},
   "outputs": [
    {
     "name": "stdout",
     "output_type": "stream",
     "text": [
      "<class 'pandas.core.frame.DataFrame'>\n",
      "Int64Index: 1071 entries, 846 to 1126\n",
      "Data columns (total 11 columns):\n",
      " #   Column     Non-Null Count  Dtype  \n",
      "---  ------     --------------  -----  \n",
      " 0   age        1071 non-null   int64  \n",
      " 1   bmi        1071 non-null   float64\n",
      " 2   children   1071 non-null   int64  \n",
      " 3   female     1071 non-null   float64\n",
      " 4   male       1071 non-null   float64\n",
      " 5   no         1071 non-null   float64\n",
      " 6   yes        1071 non-null   float64\n",
      " 7   northeast  1071 non-null   float64\n",
      " 8   northwest  1071 non-null   float64\n",
      " 9   southeast  1071 non-null   float64\n",
      " 10  southwest  1071 non-null   float64\n",
      "dtypes: float64(9), int64(2)\n",
      "memory usage: 100.4 KB\n"
     ]
    }
   ],
   "source": [
    "X_train.info()"
   ]
  },
  {
   "cell_type": "code",
   "execution_count": 64,
   "metadata": {},
   "outputs": [
    {
     "name": "stdout",
     "output_type": "stream",
     "text": [
      "Prediccion (regresion lineal) = [12304.78360104  7093.24787847  8341.85211315 ... 11441.23189993\n",
      " 37301.46107557 11444.01522502]\n",
      "MSE (regresion lineal) = 6103.149147866421\n",
      "MAE (regresion lineal) = 4205.4945226997215\n",
      "Scores: [6050.40909382 6581.19463198 5233.73232452 6046.27603172 5834.93921788\n",
      " 6126.4056795  7281.69654993 6321.66880206 6193.13545932 5637.27658837]\n",
      "Mean: 6130.673437910753\n",
      "Standard deviation: 521.2667575944301\n"
     ]
    }
   ],
   "source": [
    "lin_reg = LinearRegression()\n",
    "lin_reg.fit(X_train, y_train)\n",
    "lin_pred = lin_reg.predict(X_train)\n",
    "print(f\"Prediccion (regresion lineal) = {lin_pred}\")\n",
    "\n",
    "lin_rmse = np.sqrt(mean_squared_error(y_train, lin_pred))\n",
    "print(f\"MSE (regresion lineal) = {lin_rmse}\")\n",
    "\n",
    "lin_mae = mean_absolute_error(y_train, lin_pred)\n",
    "print(f\"MAE (regresion lineal) = {lin_mae}\")\n",
    "\n",
    "scores = cross_val_score(lin_reg, X_train, y_train, scoring=\"neg_mean_squared_error\", cv=10)\n",
    "lin_rmse_scores = np.sqrt(-scores)\n",
    "\n",
    "display_scores(lin_rmse_scores)\n",
    "\n",
    "# scores = cross_val_score(lin_reg, X_test, y_test, scoring=\"neg_mean_squared_error\", cv=10)\n",
    "# lin_rmse_scores = np.sqrt(-scores)\n",
    "# print(\"==TEST==\")\n",
    "# display_scores(lin_rmse_scores)"
   ]
  },
  {
   "cell_type": "code",
   "execution_count": 59,
   "metadata": {},
   "outputs": [
    {
     "name": "stdout",
     "output_type": "stream",
     "text": [
      "Prediccion (arbol de decision) = [ 9872.701    9193.8385   8534.6718  ... 11931.12525 46113.511\n",
      " 10214.636  ]\n",
      "MSR (arbol de decision)= 493.97520812856715\n",
      "MAE (arbol de decision)= 29.544903267973854\n",
      "Scores: [5896.19517636 6549.94095262 7203.92852608 7013.98162429 7276.27382822\n",
      " 6235.89364979 7632.35453201 6969.67144186 6375.35240122 5733.07999096]\n",
      "Mean: 6688.667212341234\n",
      "Standard deviation: 595.7926038315205\n"
     ]
    }
   ],
   "source": [
    "tree_reg = DecisionTreeRegressor()\n",
    "tree_reg.fit(X_train, y_train)\n",
    "tree_pred = tree_reg.predict(X_train)\n",
    "print(f\"Prediccion (arbol de decision) = {tree_pred}\")\n",
    "\n",
    "tree_rmse = np.sqrt(mean_squared_error(y_train, tree_pred))\n",
    "print(f\"MSR (arbol de decision)= {tree_rmse}\")\n",
    "\n",
    "tree_mae = mean_absolute_error(y_train, tree_pred)\n",
    "print(f\"MAE (arbol de decision)= {tree_mae}\")\n",
    "\n",
    "scores = cross_val_score(tree_reg, X_train, y_train, scoring=\"neg_mean_squared_error\", cv=10)\n",
    "tree_rmse_scores = np.sqrt(-scores)\n",
    "\n",
    "display_scores(tree_rmse_scores)\n",
    "\n",
    "# scores = cross_val_score(tree_reg, X_test, y_test, scoring=\"neg_mean_squared_error\", cv=10)\n",
    "# tree_rmse_scores = np.sqrt(-scores)\n",
    "# print(\"==TEST==\")\n",
    "# display_scores(tree_rmse_scores)"
   ]
  },
  {
   "cell_type": "code",
   "execution_count": 45,
   "metadata": {},
   "outputs": [
    {
     "name": "stdout",
     "output_type": "stream",
     "text": [
      "Prediccion (random forest) = [ 9861.559064  10043.5613483 11167.5573245 ... 12419.5509927 45535.6536986\n",
      " 10899.9124699]\n",
      "MSR (random forest)= 1866.8169773913985\n",
      "MAE (random forest)= 1041.4363725823225\n",
      "Scores: [4833.61316928 5335.79896933 3874.4623029  4510.45038763 5283.6891429\n",
      " 4994.60524961 5554.10266916 5424.99230724 5145.74589683 4705.97649004]\n",
      "Mean: 4966.343658490828\n",
      "Standard deviation: 480.7765089665845\n",
      "==TEST==\n",
      "Scores: [2268.28873116 5499.26829176 5249.3855296  3989.69841208 5783.81886813\n",
      " 4961.90595617 4477.13018983 4829.9215878  4214.52742236 6024.08578047]\n",
      "Mean: 4729.803076937884\n",
      "Standard deviation: 1031.9019084673932\n"
     ]
    }
   ],
   "source": [
    "forest_reg = RandomForestRegressor(n_estimators=100, random_state=42)\n",
    "forest_reg.fit(X_train, y_train)\n",
    "forest_pred = forest_reg.predict(X_train)\n",
    "print(f\"Prediccion (random forest) = {forest_pred}\")\n",
    "\n",
    "forest_rmse = np.sqrt(mean_squared_error(y_train, forest_pred))\n",
    "print(f\"MSR (random forest)= {forest_rmse}\")\n",
    "\n",
    "forest_mae = mean_absolute_error(y_train, forest_pred)\n",
    "print(f\"MAE (random forest)= {forest_mae}\")\n",
    "\n",
    "scores = cross_val_score(forest_reg, X_train, y_train, scoring=\"neg_mean_squared_error\", cv=10)\n",
    "forest_rmse_scores = np.sqrt(-scores)\n",
    "\n",
    "display_scores(forest_rmse_scores)\n",
    "\n",
    "scores = cross_val_score(forest_reg, X_test, y_test, scoring=\"neg_mean_squared_error\", cv=10)\n",
    "forest_rmse_scores = np.sqrt(-scores)\n",
    "print(\"==TEST==\")\n",
    "display_scores(forest_rmse_scores)"
   ]
  },
  {
   "cell_type": "code",
   "execution_count": 43,
   "metadata": {},
   "outputs": [
    {
     "name": "stdout",
     "output_type": "stream",
     "text": [
      "Prediccion (SVR) = [10458.02049367  9368.2352541   9224.07278237 ... 12026.53641681\n",
      "  7499.98495701 11138.09604864]\n",
      "MSR (SVR)= 12791.707652091878\n",
      "MAE (SVR)= 6545.56351170418\n",
      "Scores: [13062.38471663 12585.4826409  12571.66578656 15088.20074018\n",
      " 12910.00713165 10554.16838977 13116.25055334 12522.90187548\n",
      " 12899.12633482 12338.13035153]\n",
      "Mean: 12764.831852084833\n",
      "Standard deviation: 1041.455864021634\n"
     ]
    }
   ],
   "source": [
    "svm_reg = SVR(kernel=\"linear\")\n",
    "svm_reg.fit(X_train, y_train)\n",
    "svm_pred = svm_reg.predict(X_train)\n",
    "print(f\"Prediccion (SVR) = {svm_pred}\")\n",
    "\n",
    "svm_rmse = np.sqrt(mean_squared_error(y_train, svm_pred))\n",
    "print(f\"MSR (SVR)= {svm_rmse}\")\n",
    "\n",
    "svm_mae = mean_absolute_error(y_train, svm_pred)\n",
    "print(f\"MAE (SVR)= {svm_mae}\")\n",
    "\n",
    "scores = cross_val_score(svm_reg, X_train, y_train, scoring=\"neg_mean_squared_error\", cv=10)\n",
    "svm_rmse_scores = np.sqrt(-scores)\n",
    "\n",
    "display_scores(svm_rmse_scores)\n",
    "\n",
    "# scores = cross_val_score(svm_reg, X_test, y_test, scoring=\"neg_mean_squared_error\", cv=10)\n",
    "# svm_rmse_scores = np.sqrt(-scores)\n",
    "# print(\"==TEST==\")\n",
    "# display_scores(svm_rmse_scores)"
   ]
  },
  {
   "cell_type": "code",
   "execution_count": 44,
   "metadata": {},
   "outputs": [
    {
     "name": "stdout",
     "output_type": "stream",
     "text": [
      "Prediccion (XGB) = [ 9272.214  9087.22  10352.296 ... 12048.301 45654.09  10792.25 ]\n",
      "MSR (XGB)= 979.8649859596401\n",
      "MAE (XGB)= 528.9684601236067\n",
      "Scores: [5256.96954726 5656.84924118 3893.22834672 4807.06084593 5621.63466402\n",
      " 4977.97849212 6044.91593247 5877.19091089 5250.23666664 5387.88481239]\n",
      "Mean: 5277.39494596176\n",
      "Standard deviation: 587.4925142080037\n"
     ]
    }
   ],
   "source": [
    "xgb_reg = xgb.XGBRegressor(objective=\"reg:squarederror\",\n",
    "                           random_state=42)\n",
    "\n",
    "xgb_reg.fit(X_train, y_train)\n",
    "xgb_pred=xgb_reg.predict(X_train)\n",
    "print(f\"Prediccion (XGB) = {xgb_pred}\")\n",
    "\n",
    "xgb_rmse = np.sqrt(mean_squared_error(y_train, xgb_pred))\n",
    "print(f\"MSR (XGB)= {xgb_rmse}\")\n",
    "\n",
    "xgb_mae = mean_absolute_error(y_train, xgb_pred)\n",
    "print(f\"MAE (XGB)= {xgb_mae}\")\n",
    "\n",
    "scores = cross_val_score(xgb_reg, X_train, y_train, scoring=\"neg_mean_squared_error\", cv=10)\n",
    "xgb_rmse_scores = np.sqrt(-scores)\n",
    "\n",
    "display_scores(xgb_rmse_scores)\n",
    "\n",
    "# scores = cross_val_score(xgb_reg, X_test, y_test, scoring=\"neg_mean_squared_error\", cv=10)\n",
    "# xgb_rmse_scores = np.sqrt(-scores)\n",
    "# print(\"==TEST==\")\n",
    "# display_scores(xgb_rmse_scores)"
   ]
  }
 ],
 "metadata": {
  "kernelspec": {
   "display_name": "MLenv",
   "language": "python",
   "name": "python3"
  },
  "language_info": {
   "codemirror_mode": {
    "name": "ipython",
    "version": 3
   },
   "file_extension": ".py",
   "mimetype": "text/x-python",
   "name": "python",
   "nbconvert_exporter": "python",
   "pygments_lexer": "ipython3",
   "version": "3.9.16"
  },
  "orig_nbformat": 4,
  "vscode": {
   "interpreter": {
    "hash": "d5e1dc1534da5467212750a6083d67cda8f561e9887ba3d1da25ecc6e92c49d8"
   }
  }
 },
 "nbformat": 4,
 "nbformat_minor": 2
}
